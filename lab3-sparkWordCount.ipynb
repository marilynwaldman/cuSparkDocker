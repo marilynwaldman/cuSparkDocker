{
 "cells": [
  {
   "cell_type": "markdown",
   "metadata": {},
   "source": [
    "# Word Count"
   ]
  },
  {
   "cell_type": "markdown",
   "metadata": {},
   "source": [
    "## Spark"
   ]
  },
  {
   "cell_type": "code",
   "execution_count": 1,
   "metadata": {
    "collapsed": false
   },
   "outputs": [
    {
     "data": {
      "text/plain": [
       "[u'\\tHAMLET', u'', u'', u'\\tDRAMATIS PERSONAE', u'']"
      ]
     },
     "execution_count": 1,
     "metadata": {},
     "output_type": "execute_result"
    }
   ],
   "source": [
    "#Create an rdd by reading a file\n",
    "lines = sc.textFile('hamlet.txt')\n",
    "lines.take(5)"
   ]
  },
  {
   "cell_type": "markdown",
   "metadata": {},
   "source": [
    "##Using Regular Expression\n",
    "\n",
    "re.split('\\W+', 'Dogs, cats, birds.')\n",
    "['Dogs', 'cats', 'birds', '']"
   ]
  },
  {
   "cell_type": "code",
   "execution_count": 2,
   "metadata": {
    "collapsed": false
   },
   "outputs": [
    {
     "data": {
      "text/plain": [
       "[u'hamlet', u'', u'', u'dramatis', u'personae']"
      ]
     },
     "execution_count": 2,
     "metadata": {},
     "output_type": "execute_result"
    }
   ],
   "source": [
    "#import the regular expression library\n",
    "import re\n",
    "hamlet = lines.flatMap(lambda line: re.split('\\W+', line.lower().strip()))\n",
    "hamlet.take(5)"
   ]
  },
  {
   "cell_type": "code",
   "execution_count": 3,
   "metadata": {
    "collapsed": false
   },
   "outputs": [
    {
     "name": "stdout",
     "output_type": "stream",
     "text": [
      "[u'hamlet', u'dramatis', u'personae', u'claudius', u'king']\n"
     ]
    }
   ],
   "source": [
    "hamlet = hamlet.filter(lambda x: len(x) > 2 )\n",
    "print hamlet.take(5)"
   ]
  },
  {
   "cell_type": "code",
   "execution_count": 4,
   "metadata": {
    "collapsed": false
   },
   "outputs": [
    {
     "data": {
      "text/plain": [
       "[(u'hamlet', 1),\n",
       " (u'dramatis', 1),\n",
       " (u'personae', 1),\n",
       " (u'claudius', 1),\n",
       " (u'king', 1)]"
      ]
     },
     "execution_count": 4,
     "metadata": {},
     "output_type": "execute_result"
    }
   ],
   "source": [
    "hamletTuple = hamlet.map(lambda word: (word, 1))\n",
    "hamletTuple.take(5)"
   ]
  },
  {
   "cell_type": "code",
   "execution_count": 5,
   "metadata": {
    "collapsed": false
   },
   "outputs": [
    {
     "data": {
      "text/plain": [
       "[(u'forgone', 1),\n",
       " (u'shelf', 1),\n",
       " (u'pardon', 6),\n",
       " (u'nunnery', 5),\n",
       " (u'lunacies', 1)]"
      ]
     },
     "execution_count": 5,
     "metadata": {},
     "output_type": "execute_result"
    }
   ],
   "source": [
    "hamletWordCount = hamletTuple.reduceByKey(lambda a, b: a + b)\n",
    "hamletWordCount.take(5)"
   ]
  },
  {
   "cell_type": "markdown",
   "metadata": {},
   "source": [
    "sortByKey([ascending], [numTasks])\tWhen called on a dataset of (K, V) pairs where K implements Ordered, returns a dataset of (K, V) pairs sorted by keys in ascending or descending order, as specified in the boolean ascending argument."
   ]
  },
  {
   "cell_type": "code",
   "execution_count": 6,
   "metadata": {
    "collapsed": false
   },
   "outputs": [
    {
     "data": {
      "text/plain": [
       "[(930, u'the'),\n",
       " (843, u'and'),\n",
       " (496, u'you'),\n",
       " (368, u'hamlet'),\n",
       " (346, u'that'),\n",
       " (278, u'lord'),\n",
       " (262, u'not'),\n",
       " (238, u'his'),\n",
       " (238, u'this'),\n",
       " (232, u'with'),\n",
       " (232, u'but'),\n",
       " (215, u'for'),\n",
       " (211, u'your'),\n",
       " (186, u'what'),\n",
       " (171, u'king'),\n",
       " (160, u'him'),\n",
       " (149, u'have'),\n",
       " (134, u'will'),\n",
       " (124, u'polonius'),\n",
       " (112, u'horatio')]"
      ]
     },
     "execution_count": 6,
     "metadata": {},
     "output_type": "execute_result"
    }
   ],
   "source": [
    "decending = hamletWordCount.map(lambda x: (x[1], x[0])).sortByKey(False)\n",
    "decending.take(20)"
   ]
  },
  {
   "cell_type": "code",
   "execution_count": 7,
   "metadata": {
    "collapsed": false
   },
   "outputs": [
    {
     "data": {
      "text/plain": [
       "[(u'the', 930),\n",
       " (u'and', 843),\n",
       " (u'you', 496),\n",
       " (u'hamlet', 368),\n",
       " (u'that', 346),\n",
       " (u'lord', 278),\n",
       " (u'not', 262),\n",
       " (u'his', 238),\n",
       " (u'this', 238),\n",
       " (u'with', 232),\n",
       " (u'but', 232),\n",
       " (u'for', 215),\n",
       " (u'your', 211),\n",
       " (u'what', 186),\n",
       " (u'king', 171),\n",
       " (u'him', 160),\n",
       " (u'have', 149),\n",
       " (u'will', 134),\n",
       " (u'polonius', 124),\n",
       " (u'horatio', 112)]"
      ]
     },
     "execution_count": 7,
     "metadata": {},
     "output_type": "execute_result"
    }
   ],
   "source": [
    "tmp = decending.map(lambda x: (x[1], x[0]))\n",
    "tmp.take(20)"
   ]
  },
  {
   "cell_type": "code",
   "execution_count": 8,
   "metadata": {
    "collapsed": false
   },
   "outputs": [],
   "source": [
    "%matplotlib inline\n",
    "import matplotlib.pyplot as plt\n",
    "\n",
    "def plot(words):\n",
    "    values = map(lambda x: x[1], words)\n",
    "    labels = map(lambda x: x[0], words)\n",
    "    plt.barh(range(len(values)), values, color='grey')\n",
    "    plt.yticks(range(len(values)), labels)\n",
    "    plt.show()"
   ]
  },
  {
   "cell_type": "code",
   "execution_count": 9,
   "metadata": {
    "collapsed": false
   },
   "outputs": [
    {
     "data": {
      "image/png": "[encoded data removed]",
      "text/plain": [
       "<matplotlib.figure.Figure at 0xb2052a2c>"
      ]
     },
     "metadata": {},
     "output_type": "display_data"
    }
   ],
   "source": [
    "plot(tmp.take(15))"
   ]
  },
  {
   "cell_type": "markdown",
   "metadata": {},
   "source": [
    "## Summary code"
   ]
  },
  {
   "cell_type": "code",
   "execution_count": 10,
   "metadata": {
    "collapsed": false
   },
   "outputs": [
    {
     "data": {
      "text/plain": [
       "[(930, u'the'),\n",
       " (843, u'and'),\n",
       " (496, u'you'),\n",
       " (368, u'hamlet'),\n",
       " (346, u'that'),\n",
       " (278, u'lord'),\n",
       " (262, u'not'),\n",
       " (238, u'his'),\n",
       " (238, u'this'),\n",
       " (232, u'with'),\n",
       " (232, u'but'),\n",
       " (215, u'for'),\n",
       " (211, u'your'),\n",
       " (186, u'what'),\n",
       " (171, u'king')]"
      ]
     },
     "execution_count": 10,
     "metadata": {},
     "output_type": "execute_result"
    }
   ],
   "source": [
    "words = sc.textFile('hamlet.txt')\\\n",
    "        .flatMap(lambda line: re.split('\\W+', line.lower().strip()))\\\n",
    "        .filter(lambda x: len(x) > 2 )\\\n",
    "        .map(lambda word: (word, 1))\\\n",
    "        .reduceByKey(lambda a, b: a + b)\\\n",
    "        .map(lambda x: (x[1], x[0])).sortByKey(False)   \n",
    "\n",
    "words.take(15)"
   ]
  },
  {
   "cell_type": "markdown",
   "metadata": {},
   "source": [
    "## Text filtering"
   ]
  },
  {
   "cell_type": "code",
   "execution_count": 11,
   "metadata": {
    "collapsed": false
   },
   "outputs": [],
   "source": [
    "words = sc.textFile('hamlet.txt')"
   ]
  },
  {
   "cell_type": "markdown",
   "metadata": {},
   "source": [
    "How many lines contains <em>hamlet</em>?"
   ]
  },
  {
   "cell_type": "code",
   "execution_count": 12,
   "metadata": {
    "collapsed": false
   },
   "outputs": [
    {
     "data": {
      "text/plain": [
       "367"
      ]
     },
     "execution_count": 12,
     "metadata": {},
     "output_type": "execute_result"
    }
   ],
   "source": [
    "tmp = words.filter(lambda x: \"hamlet\" in x.lower())\n",
    "tmp.count()"
   ]
  },
  {
   "cell_type": "markdown",
   "metadata": {},
   "source": [
    "As a percent?"
   ]
  },
  {
   "cell_type": "code",
   "execution_count": 13,
   "metadata": {
    "collapsed": false
   },
   "outputs": [
    {
     "data": {
      "text/plain": [
       "'7.26%'"
      ]
     },
     "execution_count": 13,
     "metadata": {},
     "output_type": "execute_result"
    }
   ],
   "source": [
    "'{0:0.2f}%'.format(100*tmp.count()/float(words.count()))"
   ]
  },
  {
   "cell_type": "markdown",
   "metadata": {},
   "source": [
    "How about <em>claudius</em> and <em>hamlet</em>?"
   ]
  },
  {
   "cell_type": "code",
   "execution_count": 14,
   "metadata": {
    "collapsed": false
   },
   "outputs": [
    {
     "data": {
      "text/plain": [
       "12"
      ]
     },
     "execution_count": 14,
     "metadata": {},
     "output_type": "execute_result"
    }
   ],
   "source": [
    "tmp.filter( lambda x: 'claudius' in x.lower()).count()"
   ]
  },
  {
   "cell_type": "code",
   "execution_count": 15,
   "metadata": {
    "collapsed": false
   },
   "outputs": [
    {
     "data": {
      "text/plain": [
       "[u'\\t[Enter KING CLAUDIUS, QUEEN GERTRUDE, HAMLET,',\n",
       " u\"KING CLAUDIUS\\tThough yet of Hamlet our dear brother's death\",\n",
       " u\"KING CLAUDIUS\\t'Tis sweet and commendable in your nature, Hamlet,\",\n",
       " u'KING CLAUDIUS\\tHow fares our cousin Hamlet?',\n",
       " u'KING CLAUDIUS\\tI have nothing with this answer, Hamlet; these words',\n",
       " u'KING CLAUDIUS\\tWhat, Gertrude? How does Hamlet?',\n",
       " u\"KING CLAUDIUS\\tNow, Hamlet, where's Polonius?\",\n",
       " u'KING CLAUDIUS\\tHamlet, this deed, for thine especial safety,--',\n",
       " u'KING CLAUDIUS\\tAy, Hamlet.',\n",
       " u'KING CLAUDIUS\\tThy loving father, Hamlet.',\n",
       " u'KING CLAUDIUS\\tFrom Hamlet! who brought them?',\n",
       " u\"KING CLAUDIUS\\t'Tis Hamlets character. 'Naked!\"]"
      ]
     },
     "execution_count": 15,
     "metadata": {},
     "output_type": "execute_result"
    }
   ],
   "source": [
    "tmp.filter( lambda x: 'claudius' in x.lower()).collect()"
   ]
  },
  {
   "cell_type": "markdown",
   "metadata": {},
   "source": [
    "## Run word count for Beowulf filtering out words whose length is less than 5"
   ]
  },
  {
   "cell_type": "code",
   "execution_count": 23,
   "metadata": {
    "collapsed": false
   },
   "outputs": [
    {
     "ename": "SyntaxError",
     "evalue": "invalid syntax (<ipython-input-23-508d3bdbfef2>, line 1)",
     "output_type": "error",
     "traceback": [
      "\u001b[1;36m  File \u001b[1;32m\"<ipython-input-23-508d3bdbfef2>\"\u001b[1;36m, line \u001b[1;32m1\u001b[0m\n\u001b[1;33m    words = sc.textFile('beowulf.txt')        .flatMap(lambda line: re.split('\\W+', line.lower().strip()))        .filter(lambda x: <fill in> )        .map(lambda word: <fill in>)        .reduceByKey(lambda a, b: <fill in>)        .map(lambda x: <fill in>).sortByKey(False)\u001b[0m\n\u001b[1;37m                                                                                                                                    ^\u001b[0m\n\u001b[1;31mSyntaxError\u001b[0m\u001b[1;31m:\u001b[0m invalid syntax\n"
     ]
    }
   ],
   "source": [
    "words = sc.textFile('beowulf.txt')\\\n",
    "        .flatMap(lambda line: re.split('\\W+', line.lower().strip()))\\\n",
    "        .filter(lambda x: <fill in> )\\\n",
    "        .map(lambda word: <fill in>)\\\n",
    "        .reduceByKey(lambda a, b: <fill in>)\\\n",
    "        .map(lambda x: <fill in>).sortByKey(False)   \n",
    "\n",
    "words.take(15)\n",
    "\n"
   ]
  },
  {
   "cell_type": "code",
   "execution_count": 17,
   "metadata": {
    "collapsed": false
   },
   "outputs": [
    {
     "data": {
      "image/png": "[encoded data removed]",
      "text/plain": [
       "<matplotlib.figure.Figure at 0xb0de144c>"
      ]
     },
     "metadata": {},
     "output_type": "display_data"
    }
   ],
   "source": [
    "tmp = words.map(lambda x: (x[1], x[0]))\n",
    "tmp.take(20)\n",
    "plot(tmp.take(15))"
   ]
  },
  {
   "cell_type": "code",
   "execution_count": null,
   "metadata": {
    "collapsed": true
   },
   "outputs": [],
   "source": []
  }
 ],
 "metadata": {
  "kernelspec": {
   "display_name": "Python 2",
   "language": "python",
   "name": "python2"
  },
  "language_info": {
   "codemirror_mode": {
    "name": "ipython",
    "version": 2
   },
   "file_extension": ".py",
   "mimetype": "text/x-python",
   "name": "python",
   "nbconvert_exporter": "python",
   "pygments_lexer": "ipython2",
   "version": "2.7.6"
  }
 },
 "nbformat": 4,
 "nbformat_minor": 0
}
