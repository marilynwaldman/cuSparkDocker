{
 "cells": [
  {
   "cell_type": "code",
   "execution_count": 14,
   "metadata": {
    "collapsed": false
   },
   "outputs": [
    {
     "name": "stdout",
     "output_type": "stream",
     "text": [
      "300\n",
      "[u'in24.inetnebr.com - - 01/Aug/1995:00:00:01 -0400 \"GET /shuttle/missions/sts-68/news/sts-68-mcc-05.txt HTTP/1.0\" 200 1839', u'uplherc.upl.com - - 01/Aug/1995:00:00:07 -0400 \"GET / HTTP/1.0\" 304 0']\n"
     ]
    }
   ],
   "source": [
    "import sys\n",
    "import os\n",
    "\n",
    "fileName = 'logfile'\n",
    "\n",
    "\"\"\" Read and parse log file \"\"\"\n",
    "parsedLogs = sc.textFile(fileName)\n",
    "         \n",
    "print parsedLogs.count()\n",
    "print parsedLogs.take(2)"
   ]
  },
  {
   "cell_type": "code",
   "execution_count": 19,
   "metadata": {
    "collapsed": false
   },
   "outputs": [
    {
     "name": "stdout",
     "output_type": "stream",
     "text": [
      "[u'in24.inetnebr.com - - 01/Aug/1995:00:00:01 -0400 \"GET /shuttle/missions/sts-68/news/sts-68-mcc-05.txt HTTP/1.0\" 200 1839', u'uplherc.upl.com - - 01/Aug/1995:00:00:07 -0400 \"GET / HTTP/1.0\" 304 0']\n",
      "150\n"
     ]
    }
   ],
   "source": [
    "#break into words\n",
    "linesWithGET = parsedLogs.filter(lambda line: \"GET\" in line)\n",
    "print linesWithGET.take(2)\n",
    "print linesWithGET.count()"
   ]
  },
  {
   "cell_type": "code",
   "execution_count": 26,
   "metadata": {
    "collapsed": false
   },
   "outputs": [
    {
     "name": "stdout",
     "output_type": "stream",
     "text": [
      "[[u'in24.inetnebr.com', u'-', u'-', u'01/Aug/1995:00:00:01', u'-0400', u'\"GET', u'/shuttle/missions/sts-68/news/sts-68-mcc-05.txt', u'HTTP/1.0\"', u'200', u'1839'], [u'uplherc.upl.com', u'-', u'-', u'01/Aug/1995:00:00:07', u'-0400', u'\"GET', u'/', u'HTTP/1.0\"', u'304', u'0']]\n",
      "[(u'in24.inetnebr.com', u'-', u'-', u'01/Aug/1995:00:00:01', u'-0400', u'\"GET', u'/shuttle/missions/sts-68/news/sts-68-mcc-05.txt', u'HTTP/1.0\"', u'200', u'1839')]\n"
     ]
    }
   ],
   "source": [
    "#create an list of words for each line\n",
    "words = linesWithGET.map(lambda line: line.split(\" \"))\n",
    "print words.take(2)\n"
   ]
  },
  {
   "cell_type": "code",
   "execution_count": 34,
   "metadata": {
    "collapsed": false
   },
   "outputs": [
    {
     "name": "stdout",
     "output_type": "stream",
     "text": [
      "[(u'in24.inetnebr.com', u'-', u'-', u'01/Aug/1995:00:00:01', u'-0400', u'\"GET', u'/shuttle/missions/sts-68/news/sts-68-mcc-05.txt', u'HTTP/1.0\"', u'200', u'1839')]\n"
     ]
    }
   ],
   "source": [
    "#break out each word of the line\n",
    "lineElements = words.map(lambda line: (line[0], line[1], line[2], line[3], line[4], line[5], line[6], line[7],line[8],line[9]))\n",
    "print lineElements.take(1)\n"
   ]
  },
  {
   "cell_type": "code",
   "execution_count": 39,
   "metadata": {
    "collapsed": false
   },
   "outputs": [
    {
     "name": "stdout",
     "output_type": "stream",
     "text": [
      "[u'200', u'304', u'304', u'304', u'304', u'200', u'304', u'200', u'200', u'200', u'200', u'200', u'200', u'304', u'200', u'200', u'200', u'200', u'200', u'200', u'304', u'304', u'304', u'304', u'200', u'200', u'200', u'200', u'200', u'200', u'200', u'200', u'200', u'200', u'200', u'200', u'200', u'200', u'200', u'200', u'200', u'200', u'200', u'200', u'200', u'200', u'200', u'302', u'200', u'200', u'200', u'200', u'200', u'200', u'200', u'200', u'200', u'200', u'200', u'200', u'200', u'200', u'200', u'200', u'200', u'200', u'200', u'200', u'200', u'200', u'200', u'200', u'200', u'200', u'200', u'200', u'200', u'200', u'200', u'200', u'200', u'200', u'200', u'200', u'200', u'200', u'200', u'200', u'200', u'200', u'200', u'304', u'200', u'304', u'304', u'200', u'304', u'200', u'304', u'304', u'200', u'304', u'200', u'200', u'200', u'200', u'304', u'302', u'200', u'200', u'200', u'200', u'304', u'200', u'200', u'200', u'304', u'304', u'200', u'200', u'200', u'200', u'302', u'200', u'304', u'304', u'200', u'200', u'200', u'200', u'200', u'200', u'200', u'200', u'200', u'200', u'304', u'200', u'304', u'304', u'304', u'304', u'304', u'200', u'200', u'200', u'304', u'200', u'200', u'200']\n"
     ]
    }
   ],
   "source": [
    "#filter out return codes \n",
    "returnCodes = lineElements.map(lambda line : line[8])\n",
    "print returnCodes.collect()\n"
   ]
  },
  {
   "cell_type": "code",
   "execution_count": 40,
   "metadata": {
    "collapsed": false
   },
   "outputs": [
    {
     "name": "stdout",
     "output_type": "stream",
     "text": [
      "[u'200', u'302', u'304']\n"
     ]
    }
   ],
   "source": [
    "#print distinct return codes\n",
    "print returnCodes.distinct().collect()"
   ]
  },
  {
   "cell_type": "code",
   "execution_count": 41,
   "metadata": {
    "collapsed": false
   },
   "outputs": [],
   "source": [
    "from pyspark.sql import Row\n",
    "                           \n",
    "\n",
    "def parseApacheLogLine(logline):\n",
    "    return Row(\n",
    "        host          = logline[0],\n",
    "        client_identd = logline[1],\n",
    "        user_id       = logline[2],\n",
    "        date_time     = logline[3],\n",
    "        status_co     = int(logline[4]),\n",
    "        method        = logline[5],\n",
    "        endpoint      = logline[6],\n",
    "        protocol      = logline[7],\n",
    "        response_code = int(logline[8]),\n",
    "        content_size  = int(logline[9]))\n",
    "\n",
    " "
   ]
  },
  {
   "cell_type": "code",
   "execution_count": 42,
   "metadata": {
    "collapsed": false
   },
   "outputs": [
    {
     "name": "stdout",
     "output_type": "stream",
     "text": [
      "[(u'in24.inetnebr.com', u'-', u'-', u'01/Aug/1995:00:00:01', u'-0400', u'\"GET', u'/shuttle/missions/sts-68/news/sts-68-mcc-05.txt', u'HTTP/1.0\"', u'200', u'1839')]\n",
      "[Row(client_identd=u'-', content_size=1839, date_time=u'01/Aug/1995:00:00:01', endpoint=u'/shuttle/missions/sts-68/news/sts-68-mcc-05.txt', host=u'in24.inetnebr.com', method=u'\"GET', protocol=u'HTTP/1.0\"', response_code=200, status_co=-400, user_id=u'-')]\n",
      "150\n"
     ]
    }
   ],
   "source": [
    "sqlRows = lineElements.map(lambda line: parseApacheLogLine(line))\n",
    "print lineElements.take(1)\n",
    "print sqlRows.take(1)\n",
    "print sqlRows.count()\n"
   ]
  },
  {
   "cell_type": "code",
   "execution_count": 43,
   "metadata": {
    "collapsed": false
   },
   "outputs": [
    {
     "name": "stdout",
     "output_type": "stream",
     "text": [
      "33\n"
     ]
    }
   ],
   "source": [
    "not200 = sqlRows.filter(lambda log: log.response_code != 200)\n",
    "print not200.count()"
   ]
  },
  {
   "cell_type": "code",
   "execution_count": null,
   "metadata": {
    "collapsed": false
   },
   "outputs": [],
   "source": [
    "# TODO: Replace <FILL IN> with appropriate code\n",
    "\n",
    "badRecords = sqlRows.<FILL IN>\n",
    "              \n",
    "print 'Found %d 404 URLs' % badRecords.count()"
   ]
  }
 ],
 "metadata": {
  "kernelspec": {
   "display_name": "Python 2",
   "language": "python",
   "name": "python2"
  },
  "language_info": {
   "codemirror_mode": {
    "name": "ipython",
    "version": 2
   },
   "file_extension": ".py",
   "mimetype": "text/x-python",
   "name": "python",
   "nbconvert_exporter": "python",
   "pygments_lexer": "ipython2",
   "version": "2.7.6"
  }
 },
 "nbformat": 4,
 "nbformat_minor": 0
}
